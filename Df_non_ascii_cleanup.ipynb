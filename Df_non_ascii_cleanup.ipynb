{
 "cells": [
  {
   "cell_type": "code",
   "execution_count": 23,
   "metadata": {},
   "outputs": [],
   "source": [
    "#!/usr/bin/env python\n",
    "'''\n",
    "    File name: Df_non_ascii_cleanup.py\n",
    "    Description: Takes a csv file or a folder of csv and cleansup non_ascii characters for each\n",
    "    Date created: 7/25/2018\n",
    "    Date last modified: 7/26/2018\n",
    "    Python Version: 3.6.\n",
    "'''\n",
    "__author__= \"Shanjeev\"\n",
    "__email__ = \"Shanjeev.rajendiran@motorolasolutions.com\""
   ]
  },
  {
   "cell_type": "code",
   "execution_count": 1,
   "metadata": {},
   "outputs": [],
   "source": [
    "import pandas as pd\n",
    "import numpy as np\n",
    "import re\n",
    "import sys\n",
    "import os\n",
    "import time\n",
    "import traceback"
   ]
  },
  {
   "cell_type": "code",
   "execution_count": 2,
   "metadata": {},
   "outputs": [],
   "source": [
    "def detect_non_ascii(row,regex_pattern):\n",
    "    \n",
    "    \"\"\" Detects non-ascii characters and return True/False for masking\n",
    "\n",
    "        Parameters:\n",
    "        param row: the entire row in dataframe\n",
    "        param regex_pattern: Regular expression for non-ascii characters\n",
    "\n",
    "        Returns: True if found, False if otherwise.\n",
    "    \"\"\"    \n",
    "    row = row.astype('str')\n",
    "\n",
    "    lst = re.findall(regex_pattern,''.join(row.values.tolist()))\n",
    "    if len(lst)!=0:\n",
    "        return(True)\n",
    "    else:\n",
    "        return(False)"
   ]
  },
  {
   "cell_type": "code",
   "execution_count": null,
   "metadata": {},
   "outputs": [],
   "source": [
    "def csv_finder():\n",
    "    \"\"\" Function to return csv files and exit if found none.\n",
    "        Returns: List of Files\n",
    "    \"\"\"\n",
    "    if len(sys.argv) > 2:\n",
    "        sys.exit('The script only accepts one argument ex <filename.csv> or <folder>') \n",
    "        \n",
    "    if len(sys.argv) == 2 and os.path.isfile(sys.argv[1]):\n",
    "        if sys.argv[1].endswith('.csv'):\n",
    "            return list(sys.argv[1])\n",
    "        else:\n",
    "            sys.exit(\"Please enter a CSV file\")\n",
    "    else:\n",
    "        if len(sys.argv)==2:\n",
    "            folder = sys.argv[1]\n",
    "        else:\n",
    "            folder = os.getcwd()\n",
    "            \n",
    "        files = [f for f in os.listdir(folder) if f.endswith('.csv')]\n",
    "        \n",
    "        if len(files) !=0:\n",
    "            return files\n",
    "        else:\n",
    "            sys.exit(\"No csv files in the given folder\")              "
   ]
  },
  {
   "cell_type": "code",
   "execution_count": 3,
   "metadata": {},
   "outputs": [],
   "source": [
    "def clean(row,regex_pattern):\n",
    "\n",
    "    \"\"\" Looks for non-ascii characters columnwise and replaces with empty string\n",
    "\n",
    "        Parameters:\n",
    "        param row: row of the given column in dataframe\n",
    "        param regex_pattern: Regular expression for non-ascii characters\n",
    "\n",
    "        Returns: cleans up the row if non-ascii characters found or returns the original row.\n",
    "    \"\"\"       \n",
    "    if len(re.findall(regex_pattern,row))==0:\n",
    "        return(row)\n",
    "    else:\n",
    "        return(re.sub(regex_pattern, '', row)) "
   ]
  },
  {
   "cell_type": "code",
   "execution_count": 4,
   "metadata": {},
   "outputs": [],
   "source": [
    "def main():\n",
    "    \"\"\" Takes up csv file as argument from CLI,\n",
    "        reads the csv file cleans away the non ascii characters,\n",
    "        records in 'non_ascii' column at the last\n",
    "        and saves the final csv arrived.\n",
    "    \"\"\" \n",
    "    for file in csv_finder():\n",
    "        csv_file = file\n",
    "        error_file = csv_file.replace('.csv',time.strftime(\"_%d-%m-%Y_%H-%M-%S\")+'_error.csv')\n",
    "        output_file = csv_file.replace('.csv','_cleaned.csv')\n",
    "\n",
    "        regex_pattern = r'[^\\x00-\\x7F]'\n",
    "\n",
    "    #Reading the csv file and renaming if erroreous file\n",
    "        try:\n",
    "            df = pd.read_csv(csv_file,encoding='cp1252')\n",
    "        except:\n",
    "            os.rename(csv_file,error_file)\n",
    "            print('Error encoding the csv file -{}'.format(file))\n",
    "            continue\n",
    "\n",
    "    #Flagging the corrupted rows in \"non_ascii\" table      \n",
    "        df['non_ascii'] = 'N'\n",
    "        df.loc[df.apply(lambda x: detect_non_ascii(x,regex_pattern),axis = 1),'non_ascii'] = 'Y'\n",
    "\n",
    "    #Finding and replacing the non ascii characters for the whole dataframe\n",
    "        for col in df.columns:\n",
    "            if df[col].dtype == ('O'):\n",
    "                df.fillna('',inplace=True)\n",
    "                df[col] = df[col].apply(lambda x: clean(str(x),regex_pattern))\n",
    "\n",
    "    #Saving as csv file            \n",
    "        df.to_csv(output_file)"
   ]
  },
  {
   "cell_type": "code",
   "execution_count": 5,
   "metadata": {
    "scrolled": true
   },
   "outputs": [],
   "source": [
    "if __name__ == '__main__':\n",
    "    try:\n",
    "        main()\n",
    "    except:\n",
    "        print(traceback.format_exc())"
   ]
  },
  {
   "cell_type": "code",
   "execution_count": null,
   "metadata": {},
   "outputs": [],
   "source": []
  }
 ],
 "metadata": {
  "kernelspec": {
   "display_name": "Python 3",
   "language": "python",
   "name": "python3"
  },
  "language_info": {
   "codemirror_mode": {
    "name": "ipython",
    "version": 3
   },
   "file_extension": ".py",
   "mimetype": "text/x-python",
   "name": "python",
   "nbconvert_exporter": "python",
   "pygments_lexer": "ipython3",
   "version": "3.6.6"
  }
 },
 "nbformat": 4,
 "nbformat_minor": 2
}
