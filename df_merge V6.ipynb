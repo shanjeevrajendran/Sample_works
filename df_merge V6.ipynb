{
 "cells": [
  {
   "cell_type": "code",
   "execution_count": 1,
   "metadata": {
    "collapsed": true
   },
   "outputs": [],
   "source": [
    "import pandas as pd\n",
    "import numpy as np\n",
    "import matplotlib.pyplot as plt\n",
    "import xml.etree.ElementTree as ET\n",
    "import xlsxwriter\n",
    "# to import xlsxwriter goto command prompt and run \"pip install xlsxwriter\"\n",
    "import os"
   ]
  },
  {
   "cell_type": "code",
   "execution_count": 2,
   "metadata": {},
   "outputs": [],
   "source": [
    "# function to convert dataframe to csv\n",
    "def conv_csv(loc,df, name):\n",
    "    with open(loc +name+'.csv', 'wb') as f:\n",
    "        df.to_csv(f,index = 'false',encoding='cp1252')"
   ]
  },
  {
   "cell_type": "code",
   "execution_count": 3,
   "metadata": {
    "collapsed": true
   },
   "outputs": [],
   "source": [
    "def create_directory(directory):\n",
    "    if not os.path.exists(directory):\n",
    "        os.makedirs(directory)        "
   ]
  },
  {
   "cell_type": "code",
   "execution_count": 76,
   "metadata": {
    "collapsed": true
   },
   "outputs": [],
   "source": [
    "# Defining paths and inputs\n",
    "loc_equip = r'C:\\Users\\611346962\\Downloads\\Project\\Inputs\\T_Node_extract_equipment.csv'\n",
    "loc_trans = r\"C:\\Users\\611346962\\Downloads\\Project\\Inputs\\T_Node_extract_Transmedia.csv\"\n",
    "\n",
    "ins_cable_loc = r\"C:\\Users\\611346962\\Downloads\\Project\\Inputs\\T node_Connectivity_INS Base Data_Round 3(1).xlsx\"\n",
    "ins_location_loc = r\"C:\\Users\\611346962\\Downloads\\Project\\Inputs\\T node_Location_INS Base Data_Round 3(1).xlsx\"\n",
    "\n",
    "loc = r'C:\\Users\\611346962\\Downloads\\Project\\Inputs\\dataframes\\\\'\n",
    "o_loc = r'C:\\Users\\611346962\\Downloads\\Project\\Inputs\\output\\\\'\n",
    "c_loc = r'C:\\Users\\611346962\\Downloads\\Project\\Inputs\\chunks\\\\'\n",
    "create_directory(loc)\n",
    "create_directory(o_loc)\n",
    "create_directory(c_loc)\n",
    "o_file = r\"C:\\Users\\611346962\\Downloads\\Project\\Inputs\\\\\""
   ]
  },
  {
   "cell_type": "code",
   "execution_count": 5,
   "metadata": {
    "scrolled": false
   },
   "outputs": [
    {
     "name": "stderr",
     "output_type": "stream",
     "text": [
      "Skipping line 177178: expected 11 fields, saw 12\n",
      "\n",
      "Skipping line 1180008: expected 11 fields, saw 12\n",
      "Skipping line 1215412: expected 11 fields, saw 12\n",
      "\n",
      "Skipping line 1588330: expected 11 fields, saw 12\n",
      "\n",
      "<string>:2: DtypeWarning: Columns (3) have mixed types. Specify dtype option on import or set low_memory=False.\n"
     ]
    },
    {
     "name": "stdout",
     "output_type": "stream",
     "text": [
      "Wall time: 10.1 s\n"
     ]
    }
   ],
   "source": [
    "%%time\n",
    "# Reading PIPER data\n",
    "trans_df = pd.read_csv(loc_trans, error_bad_lines=False,encoding='cp1252')\n",
    "equip_df = pd.read_csv(loc_equip, error_bad_lines=False,encoding='cp1252')\n",
    "\n",
    "# equip_df = equip_df[['BT_PLANT_1141_CODE','EMINX','EMINY','EQUIPMENT_NAME','EXCHANGE_1141_CODE']]\n",
    "equip_df = equip_df[['BT_PLANT_1141_CODE','EMINX','EMINY','EQUIPMENT_NAME']]\n",
    "trans_df = trans_df[['FROM_EQUIPMENT_NAME','TO_EQUIPMENT_NAME','BT_CONDUCTOR_NUMBER','BT_CABLE_NAME','BT_CABLE_DESIGNATION','BT_CABLE_NAME_DESIGNATION']]"
   ]
  },
  {
   "cell_type": "code",
   "execution_count": 6,
   "metadata": {
    "scrolled": true
   },
   "outputs": [
    {
     "name": "stderr",
     "output_type": "stream",
     "text": [
      "C:\\Users\\611346962\\AppData\\Local\\Continuum\\Anaconda2\\lib\\site-packages\\ipykernel\\__main__.py:1: FutureWarning: sort(columns=....) is deprecated, use sort_values(by=.....)\n",
      "  if __name__ == '__main__':\n"
     ]
    }
   ],
   "source": [
    "equip_df_dup =  equip_df[equip_df['BT_PLANT_1141_CODE'].duplicated()].sort(['BT_PLANT_1141_CODE'])\n",
    "\n",
    "ignore_list = equip_df_dup.index.tolist()\n",
    "# equip_df[~equip_df.isin()].shape\n",
    "\n",
    "equip_unique_df = equip_df[~equip_df.index.isin(ignore_list)]"
   ]
  },
  {
   "cell_type": "code",
   "execution_count": 7,
   "metadata": {},
   "outputs": [],
   "source": [
    "# conv_csv(loc,equip_df_dup,'equip_df_dup')\n",
    "# conv_csv(loc,equip_unique_df,'equip_unique_df')\n",
    "# conv_csv(loc,equip_df,'equip_df')\n",
    "# conv_csv(loc,trans_df,'trans_df')"
   ]
  },
  {
   "cell_type": "code",
   "execution_count": 8,
   "metadata": {},
   "outputs": [
    {
     "name": "stdout",
     "output_type": "stream",
     "text": [
      "Wall time: 1.13 s\n"
     ]
    }
   ],
   "source": [
    "%%time\n",
    "# Creating PIPER dataframes\n",
    "\n",
    "# creating transmedia dataframe\n",
    "trans_df = trans_df.dropna(axis=0, how='all')\n",
    "\n",
    "# conv_csv(loc,trans_df,'trans_dedup_df')\n",
    "\n",
    "# creating terminating df from piper\n",
    "Terminating_df = trans_df[['TO_EQUIPMENT_NAME','BT_CONDUCTOR_NUMBER','BT_CABLE_NAME','BT_CABLE_DESIGNATION','BT_CABLE_NAME_DESIGNATION']]\n",
    "\n",
    "Terminating_df = Terminating_df.rename(columns = {'TO_EQUIPMENT_NAME':'EQUIPMENT_NAME'})\n",
    "\n",
    "# creating originating df from piper\n",
    "Originating_df = trans_df[['FROM_EQUIPMENT_NAME','BT_CONDUCTOR_NUMBER','BT_CABLE_NAME','BT_CABLE_DESIGNATION','BT_CABLE_NAME_DESIGNATION']]\n",
    "\n",
    "Originating_df = Originating_df.rename(columns = {'FROM_EQUIPMENT_NAME':'EQUIPMENT_NAME'})\n"
   ]
  },
  {
   "cell_type": "code",
   "execution_count": 9,
   "metadata": {
    "scrolled": true
   },
   "outputs": [
    {
     "name": "stderr",
     "output_type": "stream",
     "text": [
      "C:\\Users\\611346962\\AppData\\Local\\Continuum\\Anaconda2\\lib\\site-packages\\ipykernel\\__main__.py:15: FutureWarning: convert_objects is deprecated.  Use the data-type specific converters pd.to_datetime, pd.to_timedelta and pd.to_numeric.\n",
      "C:\\Users\\611346962\\AppData\\Local\\Continuum\\Anaconda2\\lib\\site-packages\\ipykernel\\__main__.py:15: SettingWithCopyWarning: \n",
      "A value is trying to be set on a copy of a slice from a DataFrame.\n",
      "Try using .loc[row_indexer,col_indexer] = value instead\n",
      "\n",
      "See the caveats in the documentation: http://pandas.pydata.org/pandas-docs/stable/indexing.html#indexing-view-versus-copy\n",
      "C:\\Users\\611346962\\AppData\\Local\\Continuum\\Anaconda2\\lib\\site-packages\\ipykernel\\__main__.py:16: FutureWarning: convert_objects is deprecated.  Use the data-type specific converters pd.to_datetime, pd.to_timedelta and pd.to_numeric.\n",
      "C:\\Users\\611346962\\AppData\\Local\\Continuum\\Anaconda2\\lib\\site-packages\\ipykernel\\__main__.py:16: SettingWithCopyWarning: \n",
      "A value is trying to be set on a copy of a slice from a DataFrame.\n",
      "Try using .loc[row_indexer,col_indexer] = value instead\n",
      "\n",
      "See the caveats in the documentation: http://pandas.pydata.org/pandas-docs/stable/indexing.html#indexing-view-versus-copy\n"
     ]
    },
    {
     "name": "stdout",
     "output_type": "stream",
     "text": [
      "Wall time: 2min 58s\n"
     ]
    }
   ],
   "source": [
    "%%time\n",
    "# Reading and Creating INS dataframes\n",
    "\n",
    "# creating INS station dataframe\n",
    "ins_STTN_df = pd.read_excel(ins_location_loc, sheetname = 'Location',encoding='cp1252')\n",
    "ins_STTN_df = ins_STTN_df[['STTN_1141_CODE','STTN_EASTING','STTN_NORTHING']]\n",
    "ins_STTN_df['STTN_EASTING'] = ins_STTN_df['STTN_EASTING'].astype(np.int64)\n",
    "ins_STTN_df['STTN_NORTHING'] = ins_STTN_df['STTN_NORTHING'].astype(np.int64)\n",
    "\n",
    "# creating INS cable dataframe originating and terminating seprately\n",
    "ins_cable_df = pd.read_excel(ins_cable_loc,sheetname = 'Connectivity',encoding='cp1252')\n",
    "ins_cable_df = ins_cable_df[['Cable Name','SubarCJ','Total Fibres','Originating','Terminating']]\n",
    "\n",
    "ins_ter_df = ins_cable_df[['Cable Name','SubarCJ','Total Fibres','Terminating']]\n",
    "ins_org_df = ins_cable_df[['Cable Name','SubarCJ','Total Fibres','Originating']]\n",
    "ins_ter_df['Total Fibres'] = ins_ter_df['Total Fibres'].convert_objects(convert_numeric=True)\n",
    "ins_org_df['Total Fibres'] = ins_org_df['Total Fibres'].convert_objects(convert_numeric=True)\n",
    "\n",
    "ins_ter_df = pd.merge(ins_STTN_df,ins_ter_df,left_on = 'STTN_1141_CODE',right_on = 'Terminating', how = 'left')\n",
    "ins_org_df = pd.merge(ins_STTN_df,ins_org_df,left_on = 'STTN_1141_CODE',right_on = 'Originating', how = 'left')"
   ]
  },
  {
   "cell_type": "code",
   "execution_count": 10,
   "metadata": {},
   "outputs": [],
   "source": [
    "bt_plant_ = pd.Series()\n",
    "bt_plant_ = bt_plant_.append(equip_df['BT_PLANT_1141_CODE'])\n",
    "bt_plant_ = bt_plant_.append(ins_STTN_df['STTN_1141_CODE'])\n",
    "\n",
    "bt_plant_df = pd.DataFrame()\n",
    "bt_plant_df['plant_code'] = bt_plant_\n",
    "\n",
    "bt_plant = bt_plant_df.dropna().drop_duplicates()['plant_code'].tolist()"
   ]
  },
  {
   "cell_type": "code",
   "execution_count": 11,
   "metadata": {
    "scrolled": true
   },
   "outputs": [
    {
     "name": "stderr",
     "output_type": "stream",
     "text": [
      "C:\\Users\\611346962\\AppData\\Local\\Continuum\\Anaconda2\\lib\\site-packages\\pandas\\core\\frame.py:2834: SettingWithCopyWarning: \n",
      "A value is trying to be set on a copy of a slice from a DataFrame\n",
      "\n",
      "See the caveats in the documentation: http://pandas.pydata.org/pandas-docs/stable/indexing.html#indexing-view-versus-copy\n",
      "  **kwargs)\n",
      "C:\\Users\\611346962\\AppData\\Local\\Continuum\\Anaconda2\\lib\\site-packages\\ipykernel\\__main__.py:6: FutureWarning: convert_objects is deprecated.  Use the data-type specific converters pd.to_datetime, pd.to_timedelta and pd.to_numeric.\n",
      "C:\\Users\\611346962\\AppData\\Local\\Continuum\\Anaconda2\\lib\\site-packages\\ipykernel\\__main__.py:6: SettingWithCopyWarning: \n",
      "A value is trying to be set on a copy of a slice from a DataFrame.\n",
      "Try using .loc[row_indexer,col_indexer] = value instead\n",
      "\n",
      "See the caveats in the documentation: http://pandas.pydata.org/pandas-docs/stable/indexing.html#indexing-view-versus-copy\n",
      "C:\\Users\\611346962\\AppData\\Local\\Continuum\\Anaconda2\\lib\\site-packages\\ipykernel\\__main__.py:8: FutureWarning: convert_objects is deprecated.  Use the data-type specific converters pd.to_datetime, pd.to_timedelta and pd.to_numeric.\n",
      "C:\\Users\\611346962\\AppData\\Local\\Continuum\\Anaconda2\\lib\\site-packages\\ipykernel\\__main__.py:8: SettingWithCopyWarning: \n",
      "A value is trying to be set on a copy of a slice from a DataFrame.\n",
      "Try using .loc[row_indexer,col_indexer] = value instead\n",
      "\n",
      "See the caveats in the documentation: http://pandas.pydata.org/pandas-docs/stable/indexing.html#indexing-view-versus-copy\n",
      "C:\\Users\\611346962\\AppData\\Local\\Continuum\\Anaconda2\\lib\\site-packages\\ipykernel\\__main__.py:10: SettingWithCopyWarning: \n",
      "A value is trying to be set on a copy of a slice from a DataFrame.\n",
      "Try using .loc[row_indexer,col_indexer] = value instead\n",
      "\n",
      "See the caveats in the documentation: http://pandas.pydata.org/pandas-docs/stable/indexing.html#indexing-view-versus-copy\n",
      "C:\\Users\\611346962\\AppData\\Local\\Continuum\\Anaconda2\\lib\\site-packages\\pandas\\core\\indexing.py:477: SettingWithCopyWarning: \n",
      "A value is trying to be set on a copy of a slice from a DataFrame.\n",
      "Try using .loc[row_indexer,col_indexer] = value instead\n",
      "\n",
      "See the caveats in the documentation: http://pandas.pydata.org/pandas-docs/stable/indexing.html#indexing-view-versus-copy\n",
      "  self.obj[item] = s\n",
      "C:\\Users\\611346962\\AppData\\Local\\Continuum\\Anaconda2\\lib\\site-packages\\ipykernel\\__main__.py:13: SettingWithCopyWarning: \n",
      "A value is trying to be set on a copy of a slice from a DataFrame.\n",
      "Try using .loc[row_indexer,col_indexer] = value instead\n",
      "\n",
      "See the caveats in the documentation: http://pandas.pydata.org/pandas-docs/stable/indexing.html#indexing-view-versus-copy\n"
     ]
    }
   ],
   "source": [
    "# Spliting Geometry details in PIPER data\n",
    "equip_final_df = equip_unique_df\n",
    "\n",
    "equip_final_df.rename(columns={'EMINX': 'GEOMETRY_Easting', 'EMINY': 'GEOMETRY_Northing'}, inplace=True)\n",
    "\n",
    "equip_final_df['GEOMETRY_Easting'] = equip_final_df['GEOMETRY_Easting'].convert_objects(convert_numeric=True).apply(lambda x: x/10)\n",
    "\n",
    "equip_final_df['GEOMETRY_Northing'] = equip_final_df['GEOMETRY_Northing'].convert_objects(convert_numeric=True).apply(lambda x: x/10)\n",
    "\n",
    "equip_final_df['GEOMETRY_Easting'] = equip_final_df['GEOMETRY_Easting'].astype('O')\n",
    "equip_final_df.loc[equip_final_df['GEOMETRY_Easting'].notnull(), 'GEOMETRY_Easting'] = equip_final_df.loc[equip_final_df['GEOMETRY_Easting'].notnull(), 'GEOMETRY_Easting'].astype(np.float64)\n",
    "\n",
    "equip_final_df['GEOMETRY_Northing'] = equip_final_df['GEOMETRY_Northing'].astype('O')\n",
    "equip_final_df.loc[equip_final_df['GEOMETRY_Northing'].notnull(), 'GEOMETRY_Northing'] = equip_final_df.loc[equip_final_df['GEOMETRY_Northing'].notnull(), 'GEOMETRY_Northing'].astype(np.float64)\n",
    "\n",
    "# conv_csv(loc,equip_final_df,'equip_final_df')\n",
    "\n"
   ]
  },
  {
   "cell_type": "code",
   "execution_count": 12,
   "metadata": {
    "collapsed": true
   },
   "outputs": [],
   "source": [
    "# merging INS station details with PIPER equipment details\n",
    "\n",
    "equip_final_df = equip_final_df.rename(columns = {'BT_PLANT_1141_CODE':'STTN_1141_CODE'})\n",
    "ins_piper_df = pd.merge(ins_STTN_df,equip_final_df,on = 'STTN_1141_CODE', how = 'outer')\n",
    "# conv_csv(loc,ins_piper_df,'ins_piper_df')\n",
    "\n",
    "# removing the decimal values in easting and northing values\n",
    "ins_piper_df_geo = ins_piper_df[(np.isclose(ins_piper_df['STTN_EASTING'].values[:, None],ins_piper_df['GEOMETRY_Easting'].values[:, None],atol = 1)) & (np.isclose(ins_piper_df['STTN_NORTHING'].values[:, None],ins_piper_df['GEOMETRY_Northing'].values[:, None],atol = 1))]\n",
    "# conv_csv(loc,ins_piper_df_geo,'ins_piper_df_geo')"
   ]
  },
  {
   "cell_type": "code",
   "execution_count": 13,
   "metadata": {
    "scrolled": false
   },
   "outputs": [
    {
     "name": "stderr",
     "output_type": "stream",
     "text": [
      "C:\\Users\\611346962\\AppData\\Local\\Continuum\\Anaconda2\\lib\\site-packages\\ipykernel\\__main__.py:3: FutureWarning: convert_objects is deprecated.  Use the data-type specific converters pd.to_datetime, pd.to_timedelta and pd.to_numeric.\n",
      "  app.launch_new_instance()\n",
      "C:\\Users\\611346962\\AppData\\Local\\Continuum\\Anaconda2\\lib\\site-packages\\ipykernel\\__main__.py:8: FutureWarning: convert_objects is deprecated.  Use the data-type specific converters pd.to_datetime, pd.to_timedelta and pd.to_numeric.\n"
     ]
    }
   ],
   "source": [
    "# merging piper terminating cables, converting to numeric and finding the count\n",
    "Equ_Ter_df = pd.merge(equip_final_df,Terminating_df,on = 'EQUIPMENT_NAME', how = 'left')\n",
    "Equ_Ter_df['BT_CONDUCTOR_NUMBER'] = Equ_Ter_df['BT_CONDUCTOR_NUMBER'].convert_objects(convert_numeric=True)\n",
    "Equ_Ter_count_df =Equ_Ter_df.groupby(['STTN_1141_CODE']).agg({'BT_CONDUCTOR_NUMBER':np.sum}).reset_index()\n",
    "\n",
    "# merging piper originating cables, converting to numeric and finding the count\n",
    "Equ_Org_df = pd.merge(equip_final_df,Originating_df,on = 'EQUIPMENT_NAME', how = 'left')\n",
    "Equ_Org_df['BT_CONDUCTOR_NUMBER'] = Equ_Org_df['BT_CONDUCTOR_NUMBER'].convert_objects(convert_numeric=True)\n",
    "Equ_Org_count_df = Equ_Org_df.groupby(['STTN_1141_CODE']).agg({'BT_CONDUCTOR_NUMBER':np.sum}).reset_index()"
   ]
  },
  {
   "cell_type": "code",
   "execution_count": 14,
   "metadata": {},
   "outputs": [],
   "source": [
    "# geo mismatch\n",
    "geo_mis_df = ins_piper_df[~ins_piper_df['STTN_1141_CODE'].isin(ins_piper_df_geo['STTN_1141_CODE'].tolist())]\n",
    "# conv_csv(o_loc,geo_mis_df,'geo_mis_df')"
   ]
  },
  {
   "cell_type": "code",
   "execution_count": 15,
   "metadata": {
    "collapsed": true
   },
   "outputs": [],
   "source": [
    "ins_ter_count_df =ins_ter_df.groupby(['STTN_1141_CODE']).agg({'Total Fibres':np.sum}).reset_index()\n",
    "ins_org_count_df =ins_org_df.groupby(['STTN_1141_CODE']).agg({'Total Fibres':np.sum}).reset_index()"
   ]
  },
  {
   "cell_type": "code",
   "execution_count": 16,
   "metadata": {
    "collapsed": true
   },
   "outputs": [],
   "source": [
    "ins_ter_cond_count_df =pd.merge(ins_ter_df,ins_ter_count_df, on = 'STTN_1141_CODE',how =  'right')\n",
    "\n",
    "ins_org_cond_count_df =pd.merge(ins_org_df,ins_org_count_df, on = 'STTN_1141_CODE',how =  'right')\n",
    "\n",
    "ins_ter_cond_count_df = ins_ter_cond_count_df[['STTN_1141_CODE','SubarCJ','Total Fibres_y']]\n",
    "ins_org_cond_count_df = ins_org_cond_count_df[['STTN_1141_CODE','SubarCJ','Total Fibres_y']]\n",
    "\n",
    "# conductor count based on cable names - Piper\n",
    "equip_final_merge_org_df = pd.merge(equip_final_df,Originating_df,on = 'EQUIPMENT_NAME',how = 'left')\n",
    "\n",
    "equip_final_merge_Ter_df = pd.merge(equip_final_df,Terminating_df,on = 'EQUIPMENT_NAME',how = 'left')\n",
    "\n",
    "equip_final_merge_org_df['Cable Name'] = equip_final_merge_org_df['BT_CABLE_NAME']+\" \" +equip_final_merge_org_df['BT_CABLE_NAME_DESIGNATION']\n",
    "\n",
    "equip_final_merge_Ter_df['Cable Name'] = equip_final_merge_Ter_df['BT_CABLE_NAME']+\" \" +equip_final_merge_Ter_df['BT_CABLE_NAME_DESIGNATION']"
   ]
  },
  {
   "cell_type": "code",
   "execution_count": 17,
   "metadata": {},
   "outputs": [],
   "source": [
    "del equip_final_merge_org_df['Cable Name']\n",
    "del equip_final_merge_Ter_df['Cable Name']"
   ]
  },
  {
   "cell_type": "code",
   "execution_count": 18,
   "metadata": {},
   "outputs": [],
   "source": [
    "# Preparing final reference data frame\n",
    "\n",
    "# reset index\n",
    "ins_ter_cond_count_df = ins_ter_cond_count_df.reset_index()\n",
    "equip_final_merge_Ter_df = equip_final_merge_Ter_df.reset_index()\n",
    "ins_org_cond_count_df = ins_org_cond_count_df.reset_index()\n",
    "equip_final_merge_org_df = equip_final_merge_org_df.reset_index()\n",
    "\n",
    "#remove index\n",
    "del equip_final_merge_org_df['index']\n",
    "del equip_final_merge_Ter_df['index']\n",
    "\n",
    "#rearrange\n",
    "equip_final_merge_org_df = equip_final_merge_org_df[['BT_CABLE_DESIGNATION','STTN_1141_CODE','BT_CONDUCTOR_NUMBER']]\n",
    "equip_final_merge_Ter_df = equip_final_merge_Ter_df[['BT_CABLE_DESIGNATION','STTN_1141_CODE','BT_CONDUCTOR_NUMBER']]\n",
    "\n",
    "# rename piper columns\n",
    "equip_final_merge_org_df = equip_final_merge_org_df.rename(columns = {'BT_CABLE_DESIGNATION':'SubarCJ','BT_CONDUCTOR_NUMBER':'Total Fibres'})\n",
    "equip_final_merge_Ter_df = equip_final_merge_Ter_df.rename(columns = {'BT_CABLE_DESIGNATION':'SubarCJ','BT_CONDUCTOR_NUMBER':'Total Fibres'})\n",
    "\n",
    "# adding columns\n",
    "equip_final_merge_Ter_df['INS/PIPER'] = 'PIPER'\n",
    "equip_final_merge_Ter_df['Terminating/Originating'] = 'Terminating'\n",
    "ins_ter_cond_count_df['INS/PIPER'] = 'INS'\n",
    "ins_ter_cond_count_df['Terminating/Originating'] = 'Terminating'\n",
    "equip_final_merge_org_df['INS/PIPER'] = 'PIPER'\n",
    "equip_final_merge_org_df['Terminating/Originating'] = 'Originating'\n",
    "ins_org_cond_count_df['INS/PIPER'] = 'INS'\n",
    "ins_org_cond_count_df['Terminating/Originating'] = 'Originating'\n",
    "\n",
    "# merging ins and piper df\n",
    "final_ref_df = equip_final_merge_Ter_df\n",
    "final_ref_df = final_ref_df.append(ins_ter_cond_count_df)\n",
    "final_ref_df = final_ref_df.append(equip_final_merge_org_df)\n",
    "final_ref_df = final_ref_df.append(ins_org_cond_count_df)\n",
    "\n",
    "# conv_csv(loc,final_ref_df,'final_ref_df')"
   ]
  },
  {
   "cell_type": "code",
   "execution_count": 19,
   "metadata": {
    "scrolled": true
   },
   "outputs": [
    {
     "name": "stderr",
     "output_type": "stream",
     "text": [
      "C:\\Users\\611346962\\AppData\\Local\\Continuum\\Anaconda2\\lib\\site-packages\\pandas\\core\\indexing.py:297: SettingWithCopyWarning: \n",
      "A value is trying to be set on a copy of a slice from a DataFrame.\n",
      "Try using .loc[row_indexer,col_indexer] = value instead\n",
      "\n",
      "See the caveats in the documentation: http://pandas.pydata.org/pandas-docs/stable/indexing.html#indexing-view-versus-copy\n",
      "  self.obj[key] = _infer_fill_value(value)\n"
     ]
    },
    {
     "name": "stdout",
     "output_type": "stream",
     "text": [
      "Wall time: 26.4 s\n"
     ]
    }
   ],
   "source": [
    "%%time\n",
    "# Sorting final dataframe in given/derived(bt_plant) order\n",
    "final_ref_df2 = final_ref_df[['STTN_1141_CODE','SubarCJ','Total Fibres','INS/PIPER','Terminating/Originating']]\n",
    "# Defining Core/Spine and Fiber/Cooper\n",
    "final_ref_df2.loc[final_ref_df2['SubarCJ'].str.contains('ON', na=False),'Cable Network Category'] = 'Spine'\n",
    "final_ref_df2.loc[final_ref_df2['SubarCJ'].str.contains('ON', na=False),'Network Technology'] = 'Fibre'\n",
    "\n",
    "final_ref_df2.loc[final_ref_df2['SubarCJ'].str.contains('CJ', na=False),'Cable Network Category'] = 'Core'\n",
    "final_ref_df2.loc[final_ref_df2['SubarCJ'].str.contains('CJ', na=False),'Network Technology'] = 'Copper'\n",
    "\n",
    "final_ref_df2.loc[final_ref_df2['SubarCJ'].str.contains('LK', na=False),'Cable Network Category'] = 'Access'\n",
    "final_ref_df2.loc[final_ref_df2['SubarCJ'].str.contains('LK', na=False),'Network Technology'] = 'Copper'\n",
    "\n",
    "final_ref_df2.loc[final_ref_df2['SubarCJ'].str.contains('LD', na=False),'Cable Network Category'] = 'Access'\n",
    "final_ref_df2.loc[final_ref_df2['SubarCJ'].str.contains('LD', na=False),'Network Technology'] = 'Copper'\n",
    "\n",
    "final_ref_df2.loc[final_ref_df2['SubarCJ'].str.contains('LM', na=False),'Cable Network Category'] = 'Spine'\n",
    "final_ref_df2.loc[final_ref_df2['SubarCJ'].str.contains('LM', na=False),'Network Technology'] = 'Copper'\n",
    "\n",
    "final_ref_df2.loc[final_ref_df2['SubarCJ'].str.contains('DI', na=False),'Cable Network Category'] = 'Unknown'\n",
    "final_ref_df2.loc[final_ref_df2['SubarCJ'].str.contains('DI', na=False),'Network Technology'] = 'Copper'\n",
    "\n",
    "final_ref_df2.loc[~final_ref_df2['SubarCJ'].str.contains('CJ|ON|LK|LD|LM|DI', na=False),'Cable Network Category'] = 'Unknown'\n",
    "final_ref_df2.loc[~final_ref_df2['SubarCJ'].str.contains('CJ|ON|LK|LD|LM|DI', na=False),'Network Technology'] = 'Unknown'\n",
    "\n",
    "# conv_csv(o_loc,final_ref_df2,'final_ref_df2')"
   ]
  },
  {
   "cell_type": "code",
   "execution_count": 57,
   "metadata": {},
   "outputs": [
    {
     "name": "stdout",
     "output_type": "stream",
     "text": [
      "Wall time: 50.7 s\n"
     ]
    }
   ],
   "source": [
    "%%time\n",
    "# loading & creating final output format - Detailed\n",
    "no_of_DQI = 6\n",
    "Tnodes = []\n",
    "DQI = []\n",
    "Status = []\n",
    "Value_in_INS = []\n",
    "Value_in_PIPER = []\n",
    "DQI_sub = ['Tnode present in INS and PIPER','Tnode is present only in INS','Tnode is present only in PIPeR','Tnode location between PIPeR and INS','Originating fibre counts from Tnode','Terminating fibres counts from Tnode'] \n",
    "for i in range(len(bt_plant)):\n",
    "    for j in range(no_of_DQI):  \n",
    "        Tnodes.append(bt_plant[i])\n",
    "        DQI.append(DQI_sub[j])        \n",
    "\n",
    "final_df_detailed = pd.DataFrame({'Tnodes':Tnodes, 'DQI':DQI})\n",
    "\n",
    "final_df_detailed['Status'] = pd.Series()\n",
    "final_df_detailed['Value in INS'] = pd.Series()\n",
    "final_df_detailed['Value in PIPER'] = pd.Series()\n",
    "\n",
    "# 1st DQI\n",
    "final_df_detailed.loc[(final_df_detailed['DQI'] == DQI_sub[0]) & (np.isin(final_df_detailed['Tnodes'],(final_ref_df2[final_ref_df2['INS/PIPER'] == 'INS']['STTN_1141_CODE']),invert = False) & np.isin(final_df_detailed['Tnodes'],(final_ref_df2[final_ref_df2['INS/PIPER'] == 'PIPER']['STTN_1141_CODE']),invert = False)),'Status'] = 'Success'\n",
    "final_df_detailed.loc[(final_df_detailed['DQI'] == DQI_sub[0]) & (np.isin(final_df_detailed['Tnodes'],(final_ref_df2[final_ref_df2['INS/PIPER'] == 'INS']['STTN_1141_CODE']),invert = True) | np.isin(final_df_detailed['Tnodes'],(final_ref_df2[final_ref_df2['INS/PIPER'] == 'PIPER']['STTN_1141_CODE']),invert = True)),'Status'] = 'Failed'\n",
    "\n",
    "final_df_detailed.loc[(final_df_detailed['DQI'] == DQI_sub[0]) & (np.isin(final_df_detailed['Tnodes'],(final_ref_df2[final_ref_df2['INS/PIPER'] == 'INS']['STTN_1141_CODE']),invert = False) & np.isin(final_df_detailed['Tnodes'],(final_ref_df2[final_ref_df2['INS/PIPER'] == 'PIPER']['STTN_1141_CODE']),invert = False)),'Value in INS'] = final_df_detailed['Tnodes']\n",
    "final_df_detailed.loc[(final_df_detailed['DQI'] == DQI_sub[0]) & (np.isin(final_df_detailed['Tnodes'],(final_ref_df2[final_ref_df2['INS/PIPER'] == 'INS']['STTN_1141_CODE']),invert = False) & np.isin(final_df_detailed['Tnodes'],(final_ref_df2[final_ref_df2['INS/PIPER'] == 'PIPER']['STTN_1141_CODE']),invert = False)),'Value in PIPER'] = final_df_detailed['Tnodes']\n",
    "final_df_detailed.loc[(final_df_detailed['DQI'] == DQI_sub[0]) & (np.isin(final_df_detailed['Tnodes'],(final_ref_df2[final_ref_df2['INS/PIPER'] == 'INS']['STTN_1141_CODE']),invert = True) | np.isin(final_df_detailed['Tnodes'],(final_ref_df2[final_ref_df2['INS/PIPER'] == 'PIPER']['STTN_1141_CODE']),invert = True)),'Value in INS'] = ''\n",
    "final_df_detailed.loc[(final_df_detailed['DQI'] == DQI_sub[0]) & (np.isin(final_df_detailed['Tnodes'],(final_ref_df2[final_ref_df2['INS/PIPER'] == 'INS']['STTN_1141_CODE']),invert = True) | np.isin(final_df_detailed['Tnodes'],(final_ref_df2[final_ref_df2['INS/PIPER'] == 'PIPER']['STTN_1141_CODE']),invert = True)),'Value in PIPER'] = ''"
   ]
  },
  {
   "cell_type": "code",
   "execution_count": 58,
   "metadata": {},
   "outputs": [],
   "source": [
    "\n",
    "# 2nd DQI\n",
    "final_df_detailed.loc[(final_df_detailed['DQI'] == DQI_sub[1]) & np.isin(final_df_detailed['Tnodes'],(final_ref_df2[final_ref_df2['INS/PIPER'] == 'INS']['STTN_1141_CODE']),invert = False),'Status'] = 'Success'\n",
    "final_df_detailed.loc[(final_df_detailed['DQI'] == DQI_sub[1]) & np.isin(final_df_detailed['Tnodes'],(final_ref_df2[final_ref_df2['INS/PIPER'] == 'INS']['STTN_1141_CODE']),invert = True),'Status'] = 'Failed'\n",
    "\n",
    "final_df_detailed.loc[(final_df_detailed['DQI'] == DQI_sub[1]) & np.isin(final_df_detailed['Tnodes'],(final_ref_df2[final_ref_df2['INS/PIPER'] == 'INS']['STTN_1141_CODE']),invert = False),'Value in INS'] = final_df_detailed['Tnodes']\n",
    "final_df_detailed.loc[(final_df_detailed['DQI'] == DQI_sub[1]) & np.isin(final_df_detailed['Tnodes'],(final_ref_df2[final_ref_df2['INS/PIPER'] == 'INS']['STTN_1141_CODE']),invert = True),'Value in INS'] = ''\n",
    "\n",
    "\n",
    "# 3rd DQI\n",
    "final_df_detailed.loc[(final_df_detailed['DQI'] == DQI_sub[2]) & np.isin(final_df_detailed['Tnodes'],(final_ref_df2[final_ref_df2['INS/PIPER'] == 'PIPER']['STTN_1141_CODE']),invert = False),'Status'] = 'Success'\n",
    "final_df_detailed.loc[(final_df_detailed['DQI'] == DQI_sub[2]) & np.isin(final_df_detailed['Tnodes'],(final_ref_df2[final_ref_df2['INS/PIPER'] == 'PIPER']['STTN_1141_CODE']),invert = True),'Status'] = 'Failed'\n",
    "\n",
    "final_df_detailed.loc[(final_df_detailed['DQI'] == DQI_sub[2]) & np.isin(final_df_detailed['Tnodes'],(final_ref_df2[final_ref_df2['INS/PIPER'] == 'PIPER']['STTN_1141_CODE']),invert = False),'Value in PIPER'] = final_df_detailed['Tnodes']\n",
    "final_df_detailed.loc[(final_df_detailed['DQI'] == DQI_sub[2]) & np.isin(final_df_detailed['Tnodes'],(final_ref_df2[final_ref_df2['INS/PIPER'] == 'PIPER']['STTN_1141_CODE']),invert = True),'Value in PIPER'] = ''\n",
    "\n",
    "\n",
    "# 4th DQI\n",
    "ins_piper_df2 = pd.DataFrame({'STTN_1141_CODE':bt_plant})\n",
    "ins_piper_df2 = pd.merge(ins_piper_df2,ins_piper_df,on = 'STTN_1141_CODE',how = 'left')\n",
    "\n",
    "final_df_detailed.loc[(final_df_detailed['DQI'] == DQI_sub[3]) & np.isin(final_df_detailed['Tnodes'],geo_mis_df['STTN_1141_CODE'],invert = False),'Status'] = 'Failed'\n",
    "final_df_detailed.loc[(final_df_detailed['DQI'] == DQI_sub[3]) & np.isin(final_df_detailed['Tnodes'],geo_mis_df['STTN_1141_CODE'],invert = True),'Status'] = 'Success'\n",
    "\n",
    "final_df_detailed.loc[(final_df_detailed['DQI'] == DQI_sub[3]),'Value in INS']= \"Easting - \" + ins_piper_df2['STTN_EASTING'].round(0).map(str).values + \" Northing - \" +  ins_piper_df2['STTN_NORTHING'].round(0).map(str).values\n",
    "final_df_detailed.loc[(final_df_detailed['DQI'] == DQI_sub[3]),'Value in PIPER'] = \"Easting - \" + ins_piper_df2['GEOMETRY_Easting'].round().map(str).values + \" Northing - \" +  ins_piper_df2['GEOMETRY_Northing'].round().map(str).values\n",
    "\n",
    "final_df_detailed.loc[(final_df_detailed['DQI'] == DQI_sub[3]) & (final_df_detailed['Value in PIPER'] == 'Easting - nan Northing - nan'),'Value in PIPER'] = 'No Geometry Details'\n",
    "final_df_detailed.loc[(final_df_detailed['DQI'] == DQI_sub[3]) & (final_df_detailed['Value in INS'] == 'Easting - nan Northing - nan'),'Value in INS'] = 'No Geometry Details'\n",
    "\n",
    "#########dfs for 4th and 5th DQI\n",
    "\n",
    "ins_org_count_df2 = pd.DataFrame({'STTN_1141_CODE':bt_plant})\n",
    "ins_org_count_df2 = pd.merge(ins_org_count_df2,ins_org_count_df,on = 'STTN_1141_CODE',how = 'left')\n",
    "\n",
    "Equ_Org_count_df2 = pd.DataFrame({'STTN_1141_CODE':bt_plant})\n",
    "Equ_Org_count_df2 = pd.merge(Equ_Org_count_df2,Equ_Org_count_df,on = 'STTN_1141_CODE',how = 'left')\n",
    "\n",
    "ins_ter_count_df2 = pd.DataFrame({'STTN_1141_CODE':bt_plant})\n",
    "ins_ter_count_df2 = pd.merge(ins_ter_count_df2,ins_ter_count_df,on = 'STTN_1141_CODE',how = 'left')\n",
    "\n",
    "Equ_Ter_count_df2 = pd.DataFrame({'STTN_1141_CODE':bt_plant})\n",
    "Equ_Ter_count_df2 = pd.merge(Equ_Ter_count_df2,Equ_Ter_count_df,on = 'STTN_1141_CODE',how = 'left')\n",
    "\n",
    "# 5th DQI\n",
    "final_df_detailed.loc[(final_df_detailed['DQI'] == DQI_sub[4]),'Value in INS'] = ins_org_count_df['Total Fibres'].fillna('No Cable Details').values\n",
    "\n",
    "final_df_detailed.loc[(final_df_detailed['DQI'] == DQI_sub[4]),'Value in PIPER'] = Equ_Org_count_df2['BT_CONDUCTOR_NUMBER'].fillna('No Cable Details').values\n",
    "\n",
    "final_df_detailed.loc[((final_df_detailed['DQI'] == DQI_sub[4]) & np.equal(final_df_detailed['Value in INS'],final_df_detailed['Value in PIPER'])),'Status'] = 'Success'\n",
    "\n",
    "final_df_detailed.loc[((final_df_detailed['DQI'] == DQI_sub[4]) & np.not_equal(final_df_detailed['Value in INS'],final_df_detailed['Value in PIPER'])),'Status'] = 'Failed'\n",
    "\n",
    "final_df_detailed.loc[((final_df_detailed['DQI'] == DQI_sub[4]) & ((final_df_detailed['Value in INS']=='No Cable Details') & (final_df_detailed['Value in PIPER'] == 'No Cable Details'))),'Status'] = 'Failed'\n",
    "\n",
    "# 6th DQI\n",
    "final_df_detailed.loc[(final_df_detailed['DQI'] == DQI_sub[5]),'Value in INS'] = ins_ter_count_df2['Total Fibres'].fillna('No Cable Details').values\n",
    "final_df_detailed.loc[(final_df_detailed['DQI'] == DQI_sub[5]),'Value in PIPER'] = Equ_Ter_count_df2['BT_CONDUCTOR_NUMBER'].fillna('No Cable Details').values\n",
    "\n",
    "final_df_detailed.loc[((final_df_detailed['DQI'] == DQI_sub[5]) & np.equal(final_df_detailed['Value in INS'],final_df_detailed['Value in PIPER'])),'Status'] = 'Success'\n",
    "\n",
    "final_df_detailed.loc[((final_df_detailed['DQI'] == DQI_sub[5]) & np.not_equal(final_df_detailed['Value in INS'],final_df_detailed['Value in PIPER'])),'Status'] = 'Failed'\n",
    "\n",
    "final_df_detailed.loc[((final_df_detailed['DQI'] == DQI_sub[5]) & ((final_df_detailed['Value in INS']=='No Cable Details') & (final_df_detailed['Value in PIPER'] == 'No Cable Details'))),'Status'] = 'Failed'\n",
    "\n",
    "final_df_detailed = final_df_detailed[['Tnodes','DQI','Status','Value in INS','Value in PIPER']]"
   ]
  },
  {
   "cell_type": "code",
   "execution_count": 60,
   "metadata": {
    "scrolled": true
   },
   "outputs": [
    {
     "name": "stderr",
     "output_type": "stream",
     "text": [
      "C:\\Users\\611346962\\AppData\\Local\\Continuum\\Anaconda2\\lib\\site-packages\\ipykernel\\__main__.py:5: SettingWithCopyWarning: \n",
      "A value is trying to be set on a copy of a slice from a DataFrame.\n",
      "Try using .loc[row_indexer,col_indexer] = value instead\n",
      "\n",
      "See the caveats in the documentation: http://pandas.pydata.org/pandas-docs/stable/indexing.html#indexing-view-versus-copy\n",
      "C:\\Users\\611346962\\AppData\\Local\\Continuum\\Anaconda2\\lib\\site-packages\\ipykernel\\__main__.py:18: SettingWithCopyWarning: \n",
      "A value is trying to be set on a copy of a slice from a DataFrame\n",
      "\n",
      "See the caveats in the documentation: http://pandas.pydata.org/pandas-docs/stable/indexing.html#indexing-view-versus-copy\n",
      "C:\\Users\\611346962\\AppData\\Local\\Continuum\\Anaconda2\\lib\\site-packages\\ipykernel\\__main__.py:19: SettingWithCopyWarning: \n",
      "A value is trying to be set on a copy of a slice from a DataFrame\n",
      "\n",
      "See the caveats in the documentation: http://pandas.pydata.org/pandas-docs/stable/indexing.html#indexing-view-versus-copy\n"
     ]
    },
    {
     "name": "stdout",
     "output_type": "stream",
     "text": [
      "Wall time: 2.05 s\n"
     ]
    }
   ],
   "source": [
    "%%time\n",
    "# creating scoring sheet\n",
    "\n",
    "final_df_scoring = final_df_detailed[['Tnodes','DQI','Status']]\n",
    "\n",
    "final_df_scoring['Success Point'] = 100\n",
    "final_df_scoring['Failure Point'] = 0\n",
    "\n",
    "Weightage = []\n",
    "Weightage_list = [0.3,0,0,0.3,0.2,0.2]\n",
    "for i in range(len(bt_plant)):\n",
    "    for j in range(no_of_DQI):  \n",
    "        Weightage.append(Weightage_list[j])\n",
    "final_df_scoring['Weightage'] = pd.Series(Weightage)\n",
    "\n",
    "final_df_scoring = final_df_scoring.rename(columns = {'Status':'DQI Status'})\n",
    "\n",
    "final_df_scoring['Points post DQI Run'] = pd.Series()\n",
    "final_df_scoring['Points post DQI Run'][final_df_scoring['DQI Status']=='Success'] = 100\n",
    "final_df_scoring['Points post DQI Run'][final_df_scoring['DQI Status']=='Failed'] = 0\n",
    "final_df_scoring['Points post DQI Run'] = final_df_scoring['Points post DQI Run'].astype(int)\n",
    "\n",
    "final_df_scoring['DQI Score'] = pd.Series()\n",
    "final_df_scoring['DQI Score'] = final_df_scoring['Weightage']* final_df_scoring['Points post DQI Run']\n",
    "final_df_scoring['DQI Score'] = final_df_scoring['DQI Score'].astype(int)\n",
    "\n",
    "final_df_scoring = final_df_scoring[['Tnodes','DQI','Success Point','Failure Point','Weightage','DQI Status','Points post DQI Run','DQI Score']]\n"
   ]
  },
  {
   "cell_type": "code",
   "execution_count": 62,
   "metadata": {
    "scrolled": false
   },
   "outputs": [
    {
     "name": "stdout",
     "output_type": "stream",
     "text": [
      "Wall time: 1.51 s\n"
     ]
    }
   ],
   "source": [
    "%%time\n",
    "# creating format sheet\n",
    "final_ref_df2['num'] = 1\n",
    "final_ref_df2_ = final_ref_df2.groupby(['STTN_1141_CODE','Cable Network Category','Network Technology'],sort=False).agg({'num':np.sum}).reset_index()\n",
    "final_ref_df2_2 = final_df_scoring.groupby(['Tnodes'],sort=False).agg({'DQI Score':np.sum}).reset_index()\n",
    "\n",
    "final_ref_df2_ = final_ref_df2_.drop_duplicates('STTN_1141_CODE')\n",
    "del final_ref_df2_['num']\n",
    "\n",
    "final_df_format = pd.merge(final_ref_df2_,final_ref_df2_2, left_on = 'STTN_1141_CODE', right_on = 'Tnodes', how= 'outer')\n",
    "\n",
    "final_df_format = final_df_format[final_df_format['STTN_1141_CODE'].notnull()]\n",
    "final_df_format = final_df_format[['Tnodes','Cable Network Category','Network Technology','DQI Score']]\n"
   ]
  },
  {
   "cell_type": "code",
   "execution_count": 64,
   "metadata": {},
   "outputs": [],
   "source": [
    "# Splitting and saving\n",
    "import math\n",
    "no_of_DQI = 6\n",
    "excel_limit = 600000\n",
    "split_index = final_df_format.shape[0]*no_of_DQI/excel_limit\n",
    "spliting = int(math.ceil(split_index))\n",
    "\n",
    "split_no =  final_df_format.shape[0]/spliting\n"
   ]
  },
  {
   "cell_type": "code",
   "execution_count": 26,
   "metadata": {
    "scrolled": false
   },
   "outputs": [],
   "source": [
    "# cable_df = pd.read_csv(r\"C:\\Users\\611346962\\Downloads\\Project\\Inputs\\output\\Cable_details.csv\")\n",
    "\n",
    "# cable_df1 = cable_df[cable_df['STTN_1141_CODE'].isin(merge_df1['Tnodes'].tolist())]\n",
    "# cable_df2 = cable_df[cable_df['STTN_1141_CODE'].isin(merge_df2['Tnodes'].tolist())]"
   ]
  },
  {
   "cell_type": "code",
   "execution_count": 79,
   "metadata": {},
   "outputs": [],
   "source": [
    "# Writing output files to Excel file\n",
    "def write_excel(final_df_format,final_df_scoring,final_df_detailed,i):\n",
    "    writer = pd.ExcelWriter(o_file+\"DQI_output_file\"+str(i+1)+'.xlsx', engine='xlsxwriter')\n",
    "\n",
    "    final_df_format.to_excel(writer, sheet_name='Format',index=False,encoding='cp1252')\n",
    "    final_df_scoring.to_excel(writer, sheet_name='Scoring',index=False,encoding='cp1252')\n",
    "    final_df_detailed.to_excel(writer, sheet_name='Detailed',index=False,encoding='cp1252')\n",
    "    \n",
    "    # declaring the df  and excelsheet lists\n",
    "    df = [final_df_format,final_df_scoring,final_df_detailed]\n",
    "    excel_sheets = ['Format','Scoring', 'Detailed']\n",
    "\n",
    "    workbook = writer.book\n",
    "    worksheet = writer.sheets['Detailed']\n",
    "    format_red = workbook.add_format({'font_color': '#9C0006'})\n",
    "    format_green = workbook.add_format({'font_color': '#006100'})\n",
    "    worksheet.conditional_format('D1:E'+str(1048576), {'type': 'formula','criteria':'=LEFT($C1, '+str(len(final_df_detailed['Tnodes'])+1)+')=\"Success\"','format': format_green })\n",
    "    worksheet.conditional_format('D1:E'+str(1048576), {'type': 'formula','criteria':'=LEFT($C1, '+str(len(final_df_detailed['Tnodes'])+1)+')=\"Failed\"','format': format_red })\n",
    "\n",
    "    def get_col_widths(dataframe):\n",
    "        return [max([len(str(s)) for s in dataframe[col].values] + [len(col)])*1.2 for col in dataframe.columns]\n",
    "    def set_col_widths(df,ws):\n",
    "        for i, width in enumerate(get_col_widths(df)):\n",
    "            ws.set_column(0, i, width)\n",
    "    def borders(dataframe,ws):\n",
    "        formater = workbook.add_format({'border':1})\n",
    "        ws.set_column(0,len(dataframe.columns.values),len(dataframe),formater)\n",
    "    for i,value in enumerate (excel_sheets):\n",
    "        ws = writer.sheets[value]\n",
    "        borders(df[i],ws)\n",
    "        set_col_widths(df[i],ws)\n",
    "\n",
    "    writer.save()"
   ]
  },
  {
   "cell_type": "code",
   "execution_count": 78,
   "metadata": {},
   "outputs": [],
   "source": [
    "for i in range(spliting):\n",
    "    format_df = final_df_format[(split_no*i):((split_no)*(i+1))]\n",
    "    scoring_df = final_df_scoring[final_df_scoring['Tnodes'].isin(format_df['Tnodes'].tolist())]\n",
    "    detailed_df = final_df_detailed[final_df_detailed['Tnodes'].isin(format_df['Tnodes'].tolist())]\n",
    "    write_excel(format_df,scoring_df,detailed_df,i)"
   ]
  },
  {
   "cell_type": "code",
   "execution_count": 28,
   "metadata": {},
   "outputs": [],
   "source": [
    "# cable_df1['STTN_1141_CODE'] = cable_df1['STTN_1141_CODE'].str.decode('cp1252')\n",
    "# cable_df1['Cable Name'] = cable_df1['Cable Name'].str.decode('cp1252')\n",
    "# cable_df1['SubarCJ'] = cable_df1['SubarCJ'].str.decode('cp1252')"
   ]
  },
  {
   "cell_type": "code",
   "execution_count": 29,
   "metadata": {
    "collapsed": true
   },
   "outputs": [],
   "source": [
    "# bt_list = [bt_plant[i:i + 1000] for i in xrange(0, len(bt_plant), 1000)]\n",
    "\n",
    "# for j in range(len(bt_list)):\n",
    "#     final_ref2 = pd.DataFrame()\n",
    "#     for i in range(len(bt_list[j])):\n",
    "#         final_ref2 = final_ref2.append(final_ref_df2[final_ref_df2['STTN_1141_CODE']== bt_list[j][i]])\n",
    "#     final_ref2 = final_ref2[['STTN_1141_CODE','SubarCJ','Cable Name','Total Fibres','INS/PIPER','Terminating/Originating']]\n",
    "#     conv_csv(c_loc,final_ref2,'final_ref'+\" \"+str(j+1))"
   ]
  }
 ],
 "metadata": {
  "kernelspec": {
   "display_name": "Python 3",
   "language": "python",
   "name": "python3"
  },
  "language_info": {
   "codemirror_mode": {
    "name": "ipython",
    "version": 3
   },
   "file_extension": ".py",
   "mimetype": "text/x-python",
   "name": "python",
   "nbconvert_exporter": "python",
   "pygments_lexer": "ipython3",
   "version": "3.6.6"
  }
 },
 "nbformat": 4,
 "nbformat_minor": 2
}
