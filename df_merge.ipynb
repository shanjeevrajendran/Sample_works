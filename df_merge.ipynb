{
 "cells": [
  {
   "cell_type": "code",
   "execution_count": 34,
   "metadata": {
    "collapsed": true
   },
   "outputs": [],
   "source": [
    "import pandas as pd\n",
    "import numpy as np\n",
    "import matplotlib.pyplot as plt\n",
    "import xml.etree.ElementTree as ET"
   ]
  },
  {
   "cell_type": "code",
   "execution_count": 35,
   "metadata": {},
   "outputs": [],
   "source": [
    "# convert xml to dataframe\n",
    "loc = r'I:\\Project\\Df_merge\\Piper_and_INS_xml_files\\Dataframes\\\\'\n",
    "o_loc = r'I:\\Project\\Df_merge\\Piper_and_INS_xml_files\\Output\\\\'\n",
    "xml_loc = r'I:\\Project\\Df_merge\\Piper_and_INS_xml_files\\\\'\n",
    "def xml_to_df(xml_loc,xml_file):\n",
    "    xml_data = open(xml_loc+xml_file+'.xml').read()\n",
    "    root = ET.XML(xml_data) # element tree\n",
    "    all_records = []\n",
    "    for i, child in enumerate(root):\n",
    "        record = {}\n",
    "        for subchild in child:\n",
    "            record[subchild.tag] = subchild.text\n",
    "            all_records.append(record)\n",
    "    return  pd.DataFrame(all_records)"
   ]
  },
  {
   "cell_type": "code",
   "execution_count": 36,
   "metadata": {},
   "outputs": [],
   "source": [
    "# function to convert dataframe to csv\n",
    "def conv_csv(loc,df, name):\n",
    "    with open(loc +name+'.csv', 'wb') as f:\n",
    "        df.to_csv(f,index = 'false')"
   ]
  },
  {
   "cell_type": "code",
   "execution_count": 37,
   "metadata": {},
   "outputs": [],
   "source": [
    "trans_df = xml_to_df(xml_loc,xml_file = 'TRANSMEDIA')\n",
    "equip_df = xml_to_df(xml_loc,xml_file = 'EQUIPMENT')\n",
    "\n",
    "equip2_df = xml_to_df(xml_loc,'EQUIPMENT2')\n",
    "trans2_df = xml_to_df(xml_loc,'TRANSMEDIA2')\n",
    "\n",
    "conv_csv(loc,equip_df,'equip_df')\n",
    "conv_csv(loc,equip_df,'trans_df')"
   ]
  },
  {
   "cell_type": "code",
   "execution_count": 38,
   "metadata": {},
   "outputs": [],
   "source": [
    "conv_csv(loc,equip2_df,'equip2_df')"
   ]
  },
  {
   "cell_type": "code",
   "execution_count": 39,
   "metadata": {},
   "outputs": [],
   "source": [
    "equip_df = equip_df[['BT_PLANT_1141_CODE','GEOMETRY','EQUIPMENT_NAME']]\n",
    "equip2_df = equip2_df[['BT_PLANT_1141_CODE','GEOMETRY','EQUIPMENT_NAME']]\n",
    "equip_df = equip_df.append(equip2_df)"
   ]
  },
  {
   "cell_type": "code",
   "execution_count": 40,
   "metadata": {
    "collapsed": true
   },
   "outputs": [],
   "source": [
    "conv_csv(loc,equip_df,'equip_df')"
   ]
  },
  {
   "cell_type": "code",
   "execution_count": 41,
   "metadata": {},
   "outputs": [],
   "source": [
    "trans_df = trans_df[['FROM_EQUIPMENT_NAME','TO_EQUIPMENT_NAME','BT_CONDUCTOR_NUMBER','BT_CABLE_NAME','BT_CABLE_DESIGNATION','BT_CABLE_NAME_DESIGNATION','BT_CABLE_TYPE']]\n",
    "trans2_df = trans2_df[['FROM_EQUIPMENT_NAME','TO_EQUIPMENT_NAME','BT_CONDUCTOR_NUMBER','BT_CABLE_NAME','BT_CABLE_DESIGNATION','BT_CABLE_NAME_DESIGNATION','BT_CABLE_TYPE']]\n",
    "trans_df = trans_df.append(trans2_df)"
   ]
  },
  {
   "cell_type": "code",
   "execution_count": 42,
   "metadata": {
    "collapsed": true
   },
   "outputs": [],
   "source": [
    "# creating equipment dataframe\n",
    "bt_plant = ['TNNQD','TFRFL','TFSUK','TFROY','TFCC','TALET','TEMAH','TNSST','TNNBS','TCMOJ','TFBRN','TCYFC','TAAAC','TAAAH','TAADD']\n",
    "\n",
    "equip_final_df = equip_df[equip_df['BT_PLANT_1141_CODE'].isin(bt_plant)]\n",
    "\n",
    "equip_final_df = equip_final_df.drop_duplicates(['BT_PLANT_1141_CODE'])"
   ]
  },
  {
   "cell_type": "code",
   "execution_count": 43,
   "metadata": {},
   "outputs": [],
   "source": [
    "# creating transmedia dataframe\n",
    "trans_cln_drp_df = trans_df.dropna(axis=0, how='all')\n",
    "trans_cln_drp_df = trans_cln_drp_df[trans_cln_drp_df['BT_CABLE_TYPE'] != 'BFT']\n",
    "\n",
    "trans_ddup_df = trans_cln_drp_df.drop_duplicates(['BT_CABLE_NAME'])\n",
    "conv_csv(loc,trans_ddup_df,'trans_ddup_df')"
   ]
  },
  {
   "cell_type": "code",
   "execution_count": 44,
   "metadata": {
    "collapsed": true
   },
   "outputs": [],
   "source": [
    "# creating terminating df from piper\n",
    "Terminating_df = trans_ddup_df[['TO_EQUIPMENT_NAME','BT_CONDUCTOR_NUMBER','BT_CABLE_NAME','BT_CABLE_DESIGNATION','BT_CABLE_NAME_DESIGNATION']]\n",
    "\n",
    "Terminating_df = Terminating_df.rename(columns = {'TO_EQUIPMENT_NAME':'EQUIPMENT_NAME'})"
   ]
  },
  {
   "cell_type": "code",
   "execution_count": 45,
   "metadata": {
    "collapsed": true
   },
   "outputs": [],
   "source": [
    "# creating originating df from piper\n",
    "Originating_df = trans_ddup_df[['FROM_EQUIPMENT_NAME','BT_CONDUCTOR_NUMBER','BT_CABLE_NAME','BT_CABLE_DESIGNATION','BT_CABLE_NAME_DESIGNATION']]\n",
    "\n",
    "Originating_df = Originating_df.rename(columns = {'FROM_EQUIPMENT_NAME':'EQUIPMENT_NAME'})"
   ]
  },
  {
   "cell_type": "code",
   "execution_count": 46,
   "metadata": {
    "scrolled": true
   },
   "outputs": [
    {
     "name": "stderr",
     "output_type": "stream",
     "text": [
      "C:\\Anaconda2\\lib\\site-packages\\ipykernel\\__main__.py:3: FutureWarning: convert_objects is deprecated.  Use the data-type specific converters pd.to_datetime, pd.to_timedelta and pd.to_numeric.\n",
      "  app.launch_new_instance()\n"
     ]
    }
   ],
   "source": [
    "# merging piper terminating cables, converting to numeric and finding the count\n",
    "Equ_Ter_df = pd.merge(equip_final_df,Terminating_df,on = 'EQUIPMENT_NAME', how = 'left')\n",
    "Equ_Ter_df['BT_CONDUCTOR_NUMBER'] = Equ_Ter_df['BT_CONDUCTOR_NUMBER'].convert_objects(convert_numeric=True)\n",
    "Equ_Ter_count_df =Equ_Ter_df.groupby(['EQUIPMENT_NAME']).agg({'BT_CONDUCTOR_NUMBER':np.sum})\n",
    "conv_csv(loc,Equ_Ter_count_df,'Equ_Ter_count_df')"
   ]
  },
  {
   "cell_type": "code",
   "execution_count": 47,
   "metadata": {
    "scrolled": true
   },
   "outputs": [
    {
     "name": "stderr",
     "output_type": "stream",
     "text": [
      "C:\\Anaconda2\\lib\\site-packages\\ipykernel\\__main__.py:3: FutureWarning: convert_objects is deprecated.  Use the data-type specific converters pd.to_datetime, pd.to_timedelta and pd.to_numeric.\n",
      "  app.launch_new_instance()\n"
     ]
    }
   ],
   "source": [
    "# merging piper originating cables, converting to numeric and finding the count 1\n",
    "Equ_Org_df = pd.merge(equip_final_df,Originating_df,on = 'EQUIPMENT_NAME', how = 'left')\n",
    "Equ_Org_df['BT_CONDUCTOR_NUMBER'] = Equ_Org_df['BT_CONDUCTOR_NUMBER'].convert_objects(convert_numeric=True)\n",
    "Equ_Org_count_df = Equ_Org_df.groupby(['EQUIPMENT_NAME']).agg({'BT_CONDUCTOR_NUMBER':np.sum})\n",
    "conv_csv(loc,Equ_Org_count_df,'Equ_Org_count_df')"
   ]
  },
  {
   "cell_type": "code",
   "execution_count": 48,
   "metadata": {},
   "outputs": [],
   "source": [
    "# creating INS station dataframe\n",
    "ins_STTN_df = pd.read_csv(r\"I:\\Project\\Df_merge\\Piper_and_INS_xml_files\\Location Details.csv\")\n",
    "\n",
    "ins_STTN_df = ins_STTN_df[['STTN_1141_CODE','STTN_EASTING','STTN_NORTHING']]\n",
    "\n",
    "ins_STTN_df = ins_STTN_df.rename(columns = {'STTN_1141_CODE':'BT_PLANT_1141_CODE'})\n",
    "conv_csv(loc,ins_STTN_df,'ins_STTN_df')"
   ]
  },
  {
   "cell_type": "code",
   "execution_count": 49,
   "metadata": {
    "scrolled": true
   },
   "outputs": [],
   "source": [
    "# creating INS cable dataframe originating and terminating seprately\n",
    "ins_cable_df = pd.read_csv(r\"I:\\Project\\Df_merge\\Piper_and_INS_xml_files\\Cable Details.csv\")\n",
    "\n",
    "ins_ter_df = ins_cable_df[['Cable Name','Subarc','Total Fibres','Terminating']]\n",
    "ins_ter_df = ins_ter_df[ins_ter_df['Terminating'].isin(bt_plant)]\n",
    "\n",
    "ins_org_df = ins_cable_df[['Cable Name','Subarc','Total Fibres','Originating']]\n",
    "ins_org_df = ins_org_df[ins_org_df['Originating'].isin(bt_plant)]\n",
    "\n",
    "conv_csv(loc,ins_ter_df,'ins_ter_df')\n",
    "conv_csv(loc,ins_org_df,'ins_org_df')"
   ]
  },
  {
   "cell_type": "code",
   "execution_count": 50,
   "metadata": {
    "scrolled": true
   },
   "outputs": [
    {
     "name": "stderr",
     "output_type": "stream",
     "text": [
      "C:\\Anaconda2\\lib\\site-packages\\ipykernel\\__main__.py:7: FutureWarning: convert_objects is deprecated.  Use the data-type specific converters pd.to_datetime, pd.to_timedelta and pd.to_numeric.\n",
      "C:\\Anaconda2\\lib\\site-packages\\ipykernel\\__main__.py:9: FutureWarning: convert_objects is deprecated.  Use the data-type specific converters pd.to_datetime, pd.to_timedelta and pd.to_numeric.\n"
     ]
    }
   ],
   "source": [
    "equip_final_df['GEOMETRY_Easting'] = equip_final_df['GEOMETRY'].apply(lambda x :str(x).split('Y')[0].strip('X=').replace('\"',''))\n",
    "\n",
    "equip_final_df['GEOMETRY_Northing'] = equip_final_df['GEOMETRY'].apply(lambda x :str(x).split('Y')[1].strip('\"='))\n",
    "\n",
    "del equip_final_df['GEOMETRY']\n",
    "\n",
    "equip_final_df['GEOMETRY_Easting'] = equip_final_df['GEOMETRY_Easting'].convert_objects(convert_numeric=True).apply(lambda x: x/10)\n",
    "\n",
    "equip_final_df['GEOMETRY_Northing'] = equip_final_df['GEOMETRY_Northing'].convert_objects(convert_numeric=True).apply(lambda x: x/10)\n",
    "\n",
    "equip_final_df['GEOMETRY_Easting'] = equip_final_df['GEOMETRY_Easting'].astype('O')\n",
    "equip_final_df.loc[equip_final_df['GEOMETRY_Easting'].notnull(), 'GEOMETRY_Easting'] = equip_final_df.loc[equip_final_df['GEOMETRY_Easting'].notnull(), 'GEOMETRY_Easting'].astype(int)\n",
    "\n",
    "equip_final_df['GEOMETRY_Northing'] = equip_final_df['GEOMETRY_Northing'].astype('O')\n",
    "equip_final_df.loc[equip_final_df['GEOMETRY_Northing'].notnull(), 'GEOMETRY_Northing'] = equip_final_df.loc[equip_final_df['GEOMETRY_Northing'].notnull(), 'GEOMETRY_Northing'].astype(int)\n",
    "\n",
    "conv_csv(loc,equip_final_df,'equip_final_df')"
   ]
  },
  {
   "cell_type": "code",
   "execution_count": 73,
   "metadata": {},
   "outputs": [],
   "source": [
    "# merging INS station details with PIPER equipment details\n",
    "ins_piper_df = pd.merge(ins_STTN_df,equip_final_df,on = 'BT_PLANT_1141_CODE', how = 'left')\n",
    "# ins_piper_df = ins_piper_df.rename(columns = {'STTN_EASTING':'INS_EASTING' ,'STTN_NORTHING':'INS_NORTHING','GEOMETRY_Easting':'PIPER_EASTING','GEOMETRY_Northing':'PIPER_NORTHING'})\n",
    "conv_csv(loc,ins_piper_df,'ins_piper_df')"
   ]
  },
  {
   "cell_type": "code",
   "execution_count": 52,
   "metadata": {
    "collapsed": true
   },
   "outputs": [],
   "source": [
    "# removing the decimal values in easting and northing values\n",
    "ins_piper_df_geo = ins_piper_df[(np.isclose(ins_piper_df['STTN_EASTING'].values[:, None],ins_piper_df['GEOMETRY_Easting'].values.tolist(),atol = 1)) & (np.isclose(ins_piper_df['STTN_NORTHING'].values[:, None],ins_piper_df['GEOMETRY_Northing'].values.tolist(),atol = 1))]\n",
    "conv_csv(loc,ins_piper_df_geo,'ins_piper_df_geo')"
   ]
  },
  {
   "cell_type": "code",
   "execution_count": 53,
   "metadata": {},
   "outputs": [
    {
     "name": "stderr",
     "output_type": "stream",
     "text": [
      "C:\\Anaconda2\\lib\\site-packages\\ipykernel\\__main__.py:4: FutureWarning: convert_objects is deprecated.  Use the data-type specific converters pd.to_datetime, pd.to_timedelta and pd.to_numeric.\n",
      "C:\\Anaconda2\\lib\\site-packages\\ipykernel\\__main__.py:9: FutureWarning: convert_objects is deprecated.  Use the data-type specific converters pd.to_datetime, pd.to_timedelta and pd.to_numeric.\n"
     ]
    }
   ],
   "source": [
    "#ins conductor number\n",
    "\n",
    "ins_ter_df = ins_ter_df.rename(columns = {'Terminating':'STTN_1141_CODE'})\n",
    "ins_ter_df['Total Fibres'] = ins_ter_df['Total Fibres'].convert_objects(convert_numeric=True)\n",
    "ins_ter_count_df =ins_ter_df.groupby(['STTN_1141_CODE']).agg({'Total Fibres':np.sum})\n",
    "\n",
    "\n",
    "ins_org_df = ins_org_df.rename(columns = {'Originating':'STTN_1141_CODE'})\n",
    "ins_org_df['Total Fibres'] = ins_org_df['Total Fibres'].convert_objects(convert_numeric=True)\n",
    "ins_org_count_df =ins_org_df.groupby(['STTN_1141_CODE']).agg({'Total Fibres':np.sum})\n"
   ]
  },
  {
   "cell_type": "code",
   "execution_count": 54,
   "metadata": {},
   "outputs": [],
   "source": [
    "# Tnode mismatch\n",
    "Tnode_mis_piper_df = ins_STTN_df[~ins_STTN_df['BT_PLANT_1141_CODE'].isin(equip_final_df['BT_PLANT_1141_CODE'].tolist())]\n",
    "\n",
    "Tnode_mis_ins_df = equip_final_df[~equip_final_df['BT_PLANT_1141_CODE'].isin(ins_STTN_df['BT_PLANT_1141_CODE'].tolist())]"
   ]
  },
  {
   "cell_type": "code",
   "execution_count": 55,
   "metadata": {
    "scrolled": true
   },
   "outputs": [],
   "source": [
    "# geo mismatch\n",
    "geo_mis_df = ins_piper_df[~ins_piper_df['BT_PLANT_1141_CODE'].isin(ins_piper_df_geo['BT_PLANT_1141_CODE'].tolist())]\n",
    "conv_csv(o_loc,geo_mis_df,'geo_mis_df')"
   ]
  },
  {
   "cell_type": "code",
   "execution_count": 56,
   "metadata": {},
   "outputs": [],
   "source": [
    "#### cablename and conductor no\n",
    "# cable name mismatch\n",
    "Equ_Org_df['Cable Name'] = Equ_Org_df['BT_CABLE_NAME']+\" \" +Equ_Org_df['BT_CABLE_NAME_DESIGNATION']\n",
    "\n",
    "Equ_Ter_df['Cable Name'] = Equ_Ter_df['BT_CABLE_NAME']+\" \" +Equ_Ter_df['BT_CABLE_NAME_DESIGNATION']\n",
    "\n",
    "# conductor count based on cable names - INS\n",
    "ins_ter_cond_count_df =ins_ter_df.groupby(['Cable Name','Subarc','STTN_1141_CODE']).agg({'Total Fibres':np.sum})\n",
    "\n",
    "ins_org_cond_count_df =ins_org_df.groupby(['Cable Name','Subarc','STTN_1141_CODE']).agg({'Total Fibres':np.sum})\n",
    "\n",
    "# conductor count based on cable names - Piper\n",
    "equip_final_merge_org_df = pd.merge(equip_final_df,Originating_df,on = 'EQUIPMENT_NAME',how = 'left')\n",
    "\n",
    "equip_final_merge_Ter_df = pd.merge(equip_final_df,Terminating_df,on = 'EQUIPMENT_NAME',how = 'left')\n",
    "\n",
    "equip_final_merge_org_df['Cable Name'] = equip_final_merge_org_df['BT_CABLE_NAME']+\" \" +equip_final_merge_org_df['BT_CABLE_NAME_DESIGNATION']\n",
    "\n",
    "equip_final_merge_Ter_df['Cable Name'] = equip_final_merge_Ter_df['BT_CABLE_NAME']+\" \" +equip_final_merge_Ter_df['BT_CABLE_NAME_DESIGNATION']"
   ]
  },
  {
   "cell_type": "code",
   "execution_count": 57,
   "metadata": {},
   "outputs": [],
   "source": [
    "conv_csv(loc,ins_ter_cond_count_df,'ins_ter_cond_count_df')\n",
    "conv_csv(loc,ins_org_cond_count_df,'ins_org_cond_count_df')\n",
    "\n",
    "conv_csv(loc,equip_final_merge_org_df,'equip_final_merge_org_df')\n",
    "conv_csv(loc,equip_final_merge_Ter_df,'equip_final_merge_Ter_df')"
   ]
  },
  {
   "cell_type": "code",
   "execution_count": 58,
   "metadata": {},
   "outputs": [],
   "source": [
    "# dqi_df = pd.read_csv(r\"C:\\Users\\611346962\\Downloads\\TNodes Data\\DQI.csv\")\n",
    "\n",
    "# dqi_ref_df = pd.DataFrame(columns = ['Tnode','Cable Designation name','INS/PIPER','No of Fibers','Designation','Terminating/Originating'])"
   ]
  },
  {
   "cell_type": "code",
   "execution_count": 59,
   "metadata": {},
   "outputs": [],
   "source": [
    "# reset index\n",
    "ins_ter_cond_count_df = ins_ter_cond_count_df.reset_index()\n",
    "equip_final_merge_Ter_df = equip_final_merge_Ter_df.reset_index()\n",
    "ins_org_cond_count_df = ins_org_cond_count_df.reset_index()\n",
    "equip_final_merge_org_df = equip_final_merge_org_df.reset_index()"
   ]
  },
  {
   "cell_type": "code",
   "execution_count": 60,
   "metadata": {},
   "outputs": [],
   "source": [
    "#remove index\n",
    "del equip_final_merge_org_df['index']\n",
    "del equip_final_merge_Ter_df['index']"
   ]
  },
  {
   "cell_type": "code",
   "execution_count": 61,
   "metadata": {
    "collapsed": true
   },
   "outputs": [],
   "source": [
    "#rearrange\n",
    "equip_final_merge_org_df = equip_final_merge_org_df[['Cable Name','BT_CABLE_DESIGNATION','BT_PLANT_1141_CODE','BT_CONDUCTOR_NUMBER',]]\n",
    "equip_final_merge_Ter_df = equip_final_merge_Ter_df[['Cable Name','BT_CABLE_DESIGNATION','BT_PLANT_1141_CODE','BT_CONDUCTOR_NUMBER',]]"
   ]
  },
  {
   "cell_type": "code",
   "execution_count": 62,
   "metadata": {
    "collapsed": true
   },
   "outputs": [],
   "source": [
    "# rename piper columns\n",
    "equip_final_merge_org_df = equip_final_merge_org_df.rename(columns = {'BT_CABLE_DESIGNATION':'Subarc','BT_PLANT_1141_CODE':'STTN_1141_CODE','BT_CONDUCTOR_NUMBER':'Total Fibres'})\n",
    "equip_final_merge_Ter_df = equip_final_merge_Ter_df.rename(columns = {'BT_CABLE_DESIGNATION':'Subarc','BT_PLANT_1141_CODE':'STTN_1141_CODE','BT_CONDUCTOR_NUMBER':'Total Fibres'})"
   ]
  },
  {
   "cell_type": "code",
   "execution_count": 63,
   "metadata": {
    "collapsed": true
   },
   "outputs": [],
   "source": [
    "# adding columns\n",
    "equip_final_merge_Ter_df['INS/PIPER'] = 'PIPER'\n",
    "equip_final_merge_Ter_df['Terminating/Originating'] = 'Terminating'\n",
    "ins_ter_cond_count_df['INS/PIPER'] = 'INS'\n",
    "ins_ter_cond_count_df['Terminating/Originating'] = 'Terminating'\n",
    "equip_final_merge_org_df['INS/PIPER'] = 'PIPER'\n",
    "equip_final_merge_org_df['Terminating/Originating'] = 'Originating'\n",
    "ins_org_cond_count_df['INS/PIPER'] = 'INS'\n",
    "ins_org_cond_count_df['Terminating/Originating'] = 'Originating'"
   ]
  },
  {
   "cell_type": "code",
   "execution_count": 64,
   "metadata": {},
   "outputs": [],
   "source": [
    "# merging ins and piper df\n",
    "final_ref_df = equip_final_merge_Ter_df\n",
    "final_ref_df = final_ref_df.append(ins_ter_cond_count_df)\n",
    "final_ref_df = final_ref_df.append(equip_final_merge_org_df)\n",
    "final_ref_df = final_ref_df.append(ins_org_cond_count_df)"
   ]
  },
  {
   "cell_type": "code",
   "execution_count": 65,
   "metadata": {},
   "outputs": [],
   "source": [
    "conv_csv(o_loc,final_ref_df,'final_ref_df')"
   ]
  },
  {
   "cell_type": "code",
   "execution_count": 66,
   "metadata": {
    "scrolled": false
   },
   "outputs": [],
   "source": [
    "final_ref_df2 = pd.DataFrame()\n",
    "for value in bt_plant:\n",
    "    final_ref_df2 = final_ref_df2.append(final_ref_df[final_ref_df['STTN_1141_CODE']== value])"
   ]
  },
  {
   "cell_type": "code",
   "execution_count": 67,
   "metadata": {},
   "outputs": [],
   "source": [
    "final_ref_df2 = final_ref_df2[['STTN_1141_CODE','Subarc','Cable Name','Total Fibres','INS/PIPER','Terminating/Originating']]"
   ]
  },
  {
   "cell_type": "code",
   "execution_count": 68,
   "metadata": {
    "collapsed": true
   },
   "outputs": [],
   "source": [
    "conv_csv(loc,final_ref_df2,'final_ref_df2')\n"
   ]
  }
 ],
 "metadata": {
  "celltoolbar": "Slideshow",
  "kernelspec": {
   "display_name": "Python 3",
   "language": "python",
   "name": "python3"
  },
  "language_info": {
   "codemirror_mode": {
    "name": "ipython",
    "version": 3
   },
   "file_extension": ".py",
   "mimetype": "text/x-python",
   "name": "python",
   "nbconvert_exporter": "python",
   "pygments_lexer": "ipython3",
   "version": "3.6.6"
  }
 },
 "nbformat": 4,
 "nbformat_minor": 2
}
